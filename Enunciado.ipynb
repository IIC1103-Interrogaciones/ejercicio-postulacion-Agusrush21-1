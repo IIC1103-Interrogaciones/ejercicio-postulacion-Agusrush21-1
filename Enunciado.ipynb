{
 "cells": [
  {
   "cell_type": "markdown",
   "metadata": {},
   "source": [
    "# Ejercicio de Postulación - Área de Interrogaciones"
   ]
  },
  {
   "cell_type": "markdown",
   "metadata": {},
   "source": [
    "Nombre: Agustín Alonso DE Juan Córdova\n",
    "\n",
    "Email: agaldeco21@estudiante.uc.cl\n",
    "\n",
    "Telegram: Agusrush21"
   ]
  },
  {
   "cell_type": "markdown",
   "metadata": {},
   "source": [
    "## Código solución (NO MODIFICAR)"
   ]
  },
  {
   "cell_type": "code",
   "execution_count": 1,
   "metadata": {},
   "outputs": [],
   "source": [
    "#code.py\n",
    "def obtener_proximos(partidos, equipo):\n",
    "    equipos = []\n",
    "    ex_rivales = []\n",
    "    for partido in partidos:\n",
    "        if partido[0] not in equipos:\n",
    "            equipos.append(partido[0])\n",
    "        if partido[1] not in equipos:\n",
    "            equipos.append(partido[1])\n",
    "        if equipo == partido[0]:\n",
    "            ex_rivales.append(partido[1])\n",
    "        if equipo == partido[1]:\n",
    "            ex_rivales.append(partido[0])\n",
    "    pendientes = []\n",
    "    for rival in equipos:\n",
    "        if rival not in ex_rivales:\n",
    "            pendientes.append(rival)\n",
    "    return pendientes\n",
    "\n",
    "# Aqui veo un pequeño error ya que mete el equipo solicitado en la lista final, \n",
    "# cuando por enunciado (o al menos el borrador) solo deberia retornar los equipos con que no halla jugado, lo cual no tendria logica que juege contra si mismo.\n",
    "# Por lo que no deberia estar en la lista final"
   ]
  },
  {
   "cell_type": "markdown",
   "metadata": {},
   "source": [
    "Aqui veo un pequeño error ya que mete el equipo solicitado en la lista final, \n",
    "cuando por enunciado (o al menos el borrador) solo deberia retornar los equipos con que no halla jugado, lo cual no tendria logica que juege contra si mismo.\n",
    "Por lo que no deberia estar en la lista final"
   ]
  },
  {
   "cell_type": "markdown",
   "metadata": {},
   "source": [
    "## Runner Personalizado (Opcional Modificar) "
   ]
  },
  {
   "cell_type": "markdown",
   "metadata": {},
   "source": [
    "Se tendra en consideración si logran hacer que los outputs sean iguales (solo modificando el runner) independiente del orden en que retornen los elementos en la lista."
   ]
  },
  {
   "cell_type": "code",
   "execution_count": null,
   "metadata": {},
   "outputs": [],
   "source": [
    "from functools import partial\n",
    "\n",
    "def obtener_proximos_modificada(func_original, partidos, equipo):\n",
    "    resultado = func_original(partidos, equipo)\n",
    "    # Cambiar Comportamiento de la función original (opcional)\n",
    "\n",
    "    # --- Validaciones o modificaciones automáticas ---\n",
    "\n",
    "    # resultado = list(set(resultado))\n",
    "\n",
    "    # verificar si el equipo aparece en los partidos\n",
    "    equipos_en_partidos = {e for p in partidos for e in p}\n",
    "    if equipo not in equipos_en_partidos:\n",
    "        print(f\"⚠️ Advertencia: El equipo '{equipo}' no aparece en los partidos jugados.\")\n",
    "\n",
    "    # mostrar el resultado (debugging / logging)\n",
    "    print(f\"📥 Input: equipo='{equipo}', partidos={partidos}\")\n",
    "    print(f\"📤 Output del alumno: {resultado}\")\n",
    "\n",
    "    if equipo in resultado:\n",
    "        print(\"❌ El equipo no debe estar en la lista.\")\n",
    "    return resultado\n",
    "\n",
    "# Con esto reescribimos la función original para capturar el capturar resultado del alumno y modificarlo si es necesario\n",
    "obtener_proximos = partial(obtener_proximos_modificada, obtener_proximos)\n"
   ]
  },
  {
   "cell_type": "markdown",
   "metadata": {},
   "source": [
    "## Enunciado"
   ]
  },
  {
   "cell_type": "markdown",
   "metadata": {},
   "source": [
    "# Objetivo\n",
    "\n",
    "En el DCCampeonato de Fútbol, todos los equipos deben enfrentarse entre sí exactamente una vez. En este campeonato todos deben jugar contra todos 1 vez. Se te entrega una lista de partidos ya jugados, donde cada partido es una lista con los nombres de dos equipos. \n",
    "\n",
    "Tu tarea es definir la función ```obtener_proximos(partidos: list[list[str]], equipo: str) -> list[str]```, la cual recibe ```partidos``` que es una lista con listas de partidos ya jugados y ```equipo``` que será un string, el cuál contendra el nombre del equipo que queremos saber, esta debe retornar una lista con los nombres de los equipos contra los que dicho equipo aún no ha jugado (Si ya ha jugado con todos retorna una lista vacía)."
   ]
  },
  {
   "cell_type": "markdown",
   "metadata": {},
   "source": [
    "### _INPUT_"
   ]
  },
  {
   "cell_type": "code",
   "execution_count": 3,
   "metadata": {},
   "outputs": [
    {
     "name": "stdout",
     "output_type": "stream",
     "text": [
      "📥 Input: equipo='Chile', partidos=[['Chile', 'Argentina'], ['Brasil', 'Uruguay'], ['Brasil', 'Argentina']]\n",
      "📤 Output del alumno: ['Chile', 'Brasil', 'Uruguay']\n",
      "❌ El equipo no debe estar en la lista.\n",
      "['Chile', 'Brasil', 'Uruguay']\n"
     ]
    }
   ],
   "source": [
    "partidos = [\n",
    "    [\"Chile\", \"Argentina\"],\n",
    "    [\"Brasil\", \"Uruguay\"],\n",
    "    [\"Brasil\", \"Argentina\"]\n",
    "]\n",
    "equipo = \"Chile\"\n",
    "\n",
    "proximos_partidos = obtener_proximos(partidos, equipo)\n",
    "print(proximos_partidos)"
   ]
  },
  {
   "cell_type": "markdown",
   "metadata": {},
   "source": [
    "### _OUTPUT_"
   ]
  },
  {
   "cell_type": "code",
   "execution_count": 4,
   "metadata": {},
   "outputs": [
    {
     "data": {
      "text/plain": [
       "['Uruguay', 'Brasil']"
      ]
     },
     "execution_count": 4,
     "metadata": {},
     "output_type": "execute_result"
    }
   ],
   "source": [
    "[\"Uruguay\", \"Brasil\"]"
   ]
  },
  {
   "cell_type": "markdown",
   "metadata": {},
   "source": [
    "### EXPLICACIÓN\n",
    "\n",
    "En los partidos ya jugados el equipo __Chile__ solo jugo contra ha argentina. Por lo tanto los únicos equipos que no ha jugado son __Uruguay__ y __Brasil__, que se incluye en el resultado."
   ]
  },
  {
   "cell_type": "markdown",
   "metadata": {},
   "source": [
    "## Testcases"
   ]
  },
  {
   "cell_type": "markdown",
   "metadata": {},
   "source": [
    "### _Testcase 1_: Equipo jugo todos los partidos\n"
   ]
  },
  {
   "cell_type": "markdown",
   "metadata": {},
   "source": [
    "#### Input"
   ]
  },
  {
   "cell_type": "code",
   "execution_count": 5,
   "metadata": {},
   "outputs": [
    {
     "name": "stdout",
     "output_type": "stream",
     "text": [
      "📥 Input: equipo='A', partidos=[['A', 'B'], ['A', 'C'], ['B', 'C']]\n",
      "📤 Output del alumno: ['A']\n",
      "❌ El equipo no debe estar en la lista.\n",
      "['A']\n"
     ]
    }
   ],
   "source": [
    "partidos = [\n",
    "    [\"A\", \"B\"],\n",
    "    [\"A\", \"C\"],\n",
    "    [\"B\", \"C\"]\n",
    "]\n",
    "equipo = \"A\"\n",
    "\n",
    "proximos_partidos = obtener_proximos(partidos, equipo)\n",
    "print(proximos_partidos)"
   ]
  },
  {
   "cell_type": "markdown",
   "metadata": {},
   "source": [
    "#### Output"
   ]
  },
  {
   "cell_type": "code",
   "execution_count": 6,
   "metadata": {},
   "outputs": [
    {
     "data": {
      "text/plain": [
       "['A', 'B', 'C']"
      ]
     },
     "execution_count": 6,
     "metadata": {},
     "output_type": "execute_result"
    }
   ],
   "source": [
    "[\"A\", \"B\", \"C\"]"
   ]
  },
  {
   "cell_type": "markdown",
   "metadata": {},
   "source": [
    "### Testcase 2"
   ]
  },
  {
   "cell_type": "markdown",
   "metadata": {},
   "source": [
    "#### Input"
   ]
  },
  {
   "cell_type": "code",
   "execution_count": 7,
   "metadata": {},
   "outputs": [
    {
     "name": "stdout",
     "output_type": "stream",
     "text": [
      "⚠️ Advertencia: El equipo 'D' no aparece en los partidos jugados.\n",
      "📥 Input: equipo='D', partidos=[['A', 'B'], ['B', 'C']]\n",
      "📤 Output del alumno: ['A', 'B', 'C']\n",
      "['A', 'B', 'C']\n"
     ]
    }
   ],
   "source": [
    "partidos = [\n",
    "    [\"A\", \"B\"],\n",
    "    [\"B\", \"C\"]\n",
    "]\n",
    "equipo = \"D\"\n",
    "\n",
    "proximos_partidos = obtener_proximos(partidos, equipo)\n",
    "print(proximos_partidos)"
   ]
  },
  {
   "cell_type": "markdown",
   "metadata": {},
   "source": [
    "#### Output"
   ]
  },
  {
   "cell_type": "code",
   "execution_count": 8,
   "metadata": {},
   "outputs": [
    {
     "data": {
      "text/plain": [
       "['A', 'B', 'C']"
      ]
     },
     "execution_count": 8,
     "metadata": {},
     "output_type": "execute_result"
    }
   ],
   "source": [
    "[\"A\", \"B\", \"C\"]"
   ]
  },
  {
   "cell_type": "markdown",
   "metadata": {},
   "source": [
    "### Testcase 3"
   ]
  },
  {
   "cell_type": "markdown",
   "metadata": {},
   "source": [
    "#### Input"
   ]
  },
  {
   "cell_type": "code",
   "execution_count": 9,
   "metadata": {},
   "outputs": [
    {
     "name": "stdout",
     "output_type": "stream",
     "text": [
      "📥 Input: equipo='B', partidos=[['A', 'B'], ['C', 'D'], ['E', 'F'], ['A', 'C'], ['B', 'D'], ['A', 'D'], ['F', 'B'], ['A', 'E']]\n",
      "📤 Output del alumno: ['B', 'C', 'E']\n",
      "❌ El equipo no debe estar en la lista.\n",
      "['B', 'C', 'E']\n"
     ]
    }
   ],
   "source": [
    "partidos = [\n",
    "    [\"A\", \"B\"],\n",
    "    [\"C\", \"D\"],\n",
    "    [\"E\", \"F\"],\n",
    "    [\"A\", \"C\"],\n",
    "    [\"B\", \"D\"],\n",
    "    [\"A\", \"D\"],\n",
    "    [\"F\", \"B\"],\n",
    "    [\"A\", \"E\"]\n",
    "]\n",
    "equipo = \"B\"\n",
    "\n",
    "proximos_partidos = obtener_proximos(partidos, equipo)\n",
    "print(proximos_partidos)"
   ]
  },
  {
   "cell_type": "markdown",
   "metadata": {},
   "source": [
    "#### Output"
   ]
  },
  {
   "cell_type": "code",
   "execution_count": 10,
   "metadata": {},
   "outputs": [
    {
     "data": {
      "text/plain": [
       "['C', 'E']"
      ]
     },
     "execution_count": 10,
     "metadata": {},
     "output_type": "execute_result"
    }
   ],
   "source": [
    "[\"C\", \"E\"]"
   ]
  }
 ],
 "metadata": {
  "kernelspec": {
   "display_name": "base",
   "language": "python",
   "name": "python3"
  },
  "language_info": {
   "codemirror_mode": {
    "name": "ipython",
    "version": 3
   },
   "file_extension": ".py",
   "mimetype": "text/x-python",
   "name": "python",
   "nbconvert_exporter": "python",
   "pygments_lexer": "ipython3",
   "version": "3.12.7"
  }
 },
 "nbformat": 4,
 "nbformat_minor": 4
}
